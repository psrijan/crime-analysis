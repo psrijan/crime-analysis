{
 "cells": [
  {
   "cell_type": "code",
   "execution_count": 1,
   "metadata": {},
   "outputs": [
    {
     "name": "stdout",
     "output_type": "stream",
     "text": [
      "Import Complete \n"
     ]
    }
   ],
   "source": [
    "import numpy as np \n",
    "import pandas as pd \n",
    "from sklearn.linear_model import LogisticRegression \n",
    "print(\"Import Complete \")"
   ]
  },
  {
   "cell_type": "code",
   "execution_count": 78,
   "metadata": {},
   "outputs": [],
   "source": [
    "train_df = pd.read_csv(filepath_or_buffer = \"./data/homicidesTrain.csv\")\n",
    "test_df = pd.read_csv(filepath_or_buffer = \"./data/homicidesTest.csv\")\n",
    "final_df = pd.read_csv(filepath_or_buffer = \"./data/homicidesFinal.csv\")\n",
    "\n",
    "train_df = train_df.drop(columns=['Unnamed: 0'])\n",
    "test_df = test_df.drop(columns=['Unnamed: 0'])\n",
    "final_df = final_df.drop(columns=['Unnamed: 0'])"
   ]
  },
  {
   "cell_type": "code",
   "execution_count": 15,
   "metadata": {},
   "outputs": [
    {
     "name": "stdout",
     "output_type": "stream",
     "text": [
      "Train Count: 509620\n",
      "Test Count: 89933\n",
      "Total Count: 599553\n",
      "Train and Test Add up\n"
     ]
    }
   ],
   "source": [
    "print(\"Train Count: %d\" %train_df[\"State\"].count())\n",
    "print(\"Test Count: %d\" %test_df[\"State\"].count())\n",
    "print(\"Total Count: %d\" %final_df[\"State\"].count())\n",
    "print(\"Train and Test Add up\")"
   ]
  },
  {
   "cell_type": "code",
   "execution_count": 4,
   "metadata": {},
   "outputs": [
    {
     "data": {
      "text/html": [
       "<div>\n",
       "<style scoped>\n",
       "    .dataframe tbody tr th:only-of-type {\n",
       "        vertical-align: middle;\n",
       "    }\n",
       "\n",
       "    .dataframe tbody tr th {\n",
       "        vertical-align: top;\n",
       "    }\n",
       "\n",
       "    .dataframe thead th {\n",
       "        text-align: right;\n",
       "    }\n",
       "</style>\n",
       "<table border=\"1\" class=\"dataframe\">\n",
       "  <thead>\n",
       "    <tr style=\"text-align: right;\">\n",
       "      <th></th>\n",
       "      <th>Unnamed: 0</th>\n",
       "      <th>Victim Age</th>\n",
       "    </tr>\n",
       "  </thead>\n",
       "  <tbody>\n",
       "    <tr>\n",
       "      <th>count</th>\n",
       "      <td>509620.000000</td>\n",
       "      <td>509620.000000</td>\n",
       "    </tr>\n",
       "    <tr>\n",
       "      <th>mean</th>\n",
       "      <td>299539.612462</td>\n",
       "      <td>33.316962</td>\n",
       "    </tr>\n",
       "    <tr>\n",
       "      <th>std</th>\n",
       "      <td>173059.252731</td>\n",
       "      <td>17.183093</td>\n",
       "    </tr>\n",
       "    <tr>\n",
       "      <th>min</th>\n",
       "      <td>0.000000</td>\n",
       "      <td>0.000000</td>\n",
       "    </tr>\n",
       "    <tr>\n",
       "      <th>25%</th>\n",
       "      <td>149657.750000</td>\n",
       "      <td>22.000000</td>\n",
       "    </tr>\n",
       "    <tr>\n",
       "      <th>50%</th>\n",
       "      <td>299331.500000</td>\n",
       "      <td>29.000000</td>\n",
       "    </tr>\n",
       "    <tr>\n",
       "      <th>75%</th>\n",
       "      <td>449289.250000</td>\n",
       "      <td>41.000000</td>\n",
       "    </tr>\n",
       "    <tr>\n",
       "      <th>max</th>\n",
       "      <td>599552.000000</td>\n",
       "      <td>99.000000</td>\n",
       "    </tr>\n",
       "  </tbody>\n",
       "</table>\n",
       "</div>"
      ],
      "text/plain": [
       "          Unnamed: 0     Victim Age\n",
       "count  509620.000000  509620.000000\n",
       "mean   299539.612462      33.316962\n",
       "std    173059.252731      17.183093\n",
       "min         0.000000       0.000000\n",
       "25%    149657.750000      22.000000\n",
       "50%    299331.500000      29.000000\n",
       "75%    449289.250000      41.000000\n",
       "max    599552.000000      99.000000"
      ]
     },
     "execution_count": 4,
     "metadata": {},
     "output_type": "execute_result"
    }
   ],
   "source": [
    "df.describe()"
   ]
  },
  {
   "cell_type": "code",
   "execution_count": 56,
   "metadata": {},
   "outputs": [
    {
     "data": {
      "text/html": [
       "<div>\n",
       "<style scoped>\n",
       "    .dataframe tbody tr th:only-of-type {\n",
       "        vertical-align: middle;\n",
       "    }\n",
       "\n",
       "    .dataframe tbody tr th {\n",
       "        vertical-align: top;\n",
       "    }\n",
       "\n",
       "    .dataframe thead th {\n",
       "        text-align: right;\n",
       "    }\n",
       "</style>\n",
       "<table border=\"1\" class=\"dataframe\">\n",
       "  <thead>\n",
       "    <tr style=\"text-align: right;\">\n",
       "      <th></th>\n",
       "      <th>State</th>\n",
       "      <th>Crime Solved</th>\n",
       "      <th>Victim Sex</th>\n",
       "      <th>Victim Age</th>\n",
       "      <th>Victim Race</th>\n",
       "      <th>Weapon</th>\n",
       "    </tr>\n",
       "  </thead>\n",
       "  <tbody>\n",
       "    <tr>\n",
       "      <th>0</th>\n",
       "      <td>Alaska</td>\n",
       "      <td>Yes</td>\n",
       "      <td>Male</td>\n",
       "      <td>14</td>\n",
       "      <td>Native American/Alaska Native</td>\n",
       "      <td>Blunt Object</td>\n",
       "    </tr>\n",
       "    <tr>\n",
       "      <th>1</th>\n",
       "      <td>Alaska</td>\n",
       "      <td>Yes</td>\n",
       "      <td>Male</td>\n",
       "      <td>43</td>\n",
       "      <td>White</td>\n",
       "      <td>Strangulation</td>\n",
       "    </tr>\n",
       "    <tr>\n",
       "      <th>2</th>\n",
       "      <td>Alaska</td>\n",
       "      <td>Yes</td>\n",
       "      <td>Male</td>\n",
       "      <td>43</td>\n",
       "      <td>White</td>\n",
       "      <td>Strangulation</td>\n",
       "    </tr>\n",
       "    <tr>\n",
       "      <th>3</th>\n",
       "      <td>Alaska</td>\n",
       "      <td>Yes</td>\n",
       "      <td>Male</td>\n",
       "      <td>30</td>\n",
       "      <td>White</td>\n",
       "      <td>Rifle</td>\n",
       "    </tr>\n",
       "    <tr>\n",
       "      <th>4</th>\n",
       "      <td>Alaska</td>\n",
       "      <td>Yes</td>\n",
       "      <td>Female</td>\n",
       "      <td>42</td>\n",
       "      <td>Native American/Alaska Native</td>\n",
       "      <td>Knife</td>\n",
       "    </tr>\n",
       "  </tbody>\n",
       "</table>\n",
       "</div>"
      ],
      "text/plain": [
       "    State Crime Solved Victim Sex  Victim Age                    Victim Race  \\\n",
       "0  Alaska          Yes       Male          14  Native American/Alaska Native   \n",
       "1  Alaska          Yes       Male          43                          White   \n",
       "2  Alaska          Yes       Male          43                          White   \n",
       "3  Alaska          Yes       Male          30                          White   \n",
       "4  Alaska          Yes     Female          42  Native American/Alaska Native   \n",
       "\n",
       "          Weapon  \n",
       "0   Blunt Object  \n",
       "1  Strangulation  \n",
       "2  Strangulation  \n",
       "3          Rifle  \n",
       "4          Knife  "
      ]
     },
     "execution_count": 56,
     "metadata": {},
     "output_type": "execute_result"
    }
   ],
   "source": [
    "final_df.head()"
   ]
  },
  {
   "cell_type": "markdown",
   "metadata": {},
   "source": [
    "### State Map"
   ]
  },
  {
   "cell_type": "code",
   "execution_count": 46,
   "metadata": {},
   "outputs": [
    {
     "name": "stdout",
     "output_type": "stream",
     "text": [
      "{'Alaska': 0, 'Alabama': 1, 'Arkansas': 2, 'Arizona': 3, 'California': 4, 'Colorado': 5, 'Connecticut': 6, 'District of Columbia': 7, 'Delaware': 8, 'Florida': 9, 'Georgia': 10, 'Hawaii': 11, 'Iowa': 12, 'Idaho': 13, 'Illinois': 14, 'Indiana': 15, 'Kansas': 16, 'Kentucky': 17, 'Louisiana': 18, 'Massachusetts': 19, 'Maryland': 20, 'Maine': 21, 'Michigan': 22, 'Minnesota': 23, 'Missouri': 24, 'Mississippi': 25, 'Montana': 26, 'Nebraska': 27, 'North Carolina': 28, 'North Dakota': 29, 'New Hampshire': 30, 'New Jersey': 31, 'New Mexico': 32, 'Nevada': 33, 'New York': 34, 'Ohio': 35, 'Oklahoma': 36, 'Oregon': 37, 'Pennsylvania': 38, 'Rhodes Island': 39, 'South Carolina': 40, 'South Dakota': 41, 'Tennessee': 42, 'Texas': 43, 'Utah': 44, 'Virginia': 45, 'Vermont': 46, 'Washington': 47, 'Wisconsin': 48, 'West Virginia': 49, 'Wyoming': 50}\n"
     ]
    }
   ],
   "source": [
    "state_list = ['Alaska', 'Alabama', 'Arkansas', 'Arizona', 'California',\n",
    "       'Colorado', 'Connecticut', 'District of Columbia', 'Delaware',\n",
    "       'Florida', 'Georgia', 'Hawaii', 'Iowa', 'Idaho', 'Illinois',\n",
    "       'Indiana', 'Kansas', 'Kentucky', 'Louisiana', 'Massachusetts',\n",
    "       'Maryland', 'Maine', 'Michigan', 'Minnesota', 'Missouri',\n",
    "       'Mississippi', 'Montana', 'Nebraska', 'North Carolina',\n",
    "       'North Dakota', 'New Hampshire', 'New Jersey', 'New Mexico',\n",
    "       'Nevada', 'New York', 'Ohio', 'Oklahoma', 'Oregon', 'Pennsylvania',\n",
    "       'Rhodes Island', 'South Carolina', 'South Dakota', 'Tennessee',\n",
    "       'Texas', 'Utah', 'Virginia', 'Vermont', 'Washington', 'Wisconsin',\n",
    "       'West Virginia', 'Wyoming']\n",
    "\n",
    "state_map = {} \n",
    "i =0 \n",
    "\n",
    "for state in state_list: \n",
    "    state_map[state] = i\n",
    "    i+=1\n",
    "\n",
    "print(state_map)\n",
    "\n"
   ]
  },
  {
   "cell_type": "markdown",
   "metadata": {},
   "source": [
    "### Race Map\n"
   ]
  },
  {
   "cell_type": "code",
   "execution_count": 52,
   "metadata": {},
   "outputs": [
    {
     "name": "stdout",
     "output_type": "stream",
     "text": [
      "{'Native American/Alaska Native': 0, 'White': 1, 'Black': 2, 'Asian/Pacific Islander': 3}\n"
     ]
    }
   ],
   "source": [
    "victim_race_list = final_df[\"Victim Race\"].unique()\n",
    "victim_race_map = {} \n",
    "i = 0\n",
    "for victim_race in victim_race_list:\n",
    "    victim_race_map[victim_race] = i\n",
    "    i+=1 \n",
    "\n",
    "print(victim_race_map)"
   ]
  },
  {
   "cell_type": "markdown",
   "metadata": {},
   "source": [
    "### Weapon Map"
   ]
  },
  {
   "cell_type": "code",
   "execution_count": 54,
   "metadata": {},
   "outputs": [
    {
     "name": "stdout",
     "output_type": "stream",
     "text": [
      "{'Blunt Object': 0, 'Strangulation': 1, 'Rifle': 2, 'Knife': 3, 'Firearm': 4, 'Shotgun': 5, 'Fall': 6, 'Handgun': 7, 'Drowning': 8, 'Suffocation': 9, 'Explosives': 10, 'Fire': 11, 'Drugs': 12, 'Gun': 13, 'Poison': 14}\n"
     ]
    }
   ],
   "source": [
    "weapon_list = final_df[\"Weapon\"].unique()\n",
    "weapon_map = {} \n",
    "i = 0\n",
    "for weapon in weapon_list: \n",
    "    weapon_map[weapon] = i\n",
    "    i+=1\n",
    "\n",
    "print(weapon_map)"
   ]
  },
  {
   "cell_type": "markdown",
   "metadata": {},
   "source": [
    "### Sex and Solved Maps"
   ]
  },
  {
   "cell_type": "code",
   "execution_count": 57,
   "metadata": {},
   "outputs": [],
   "source": [
    "sex_map = {\"Male\" : 0 , \"Female\":1}\n",
    "solved_map = {\"Yes\":1 , \"No\":0}"
   ]
  },
  {
   "cell_type": "markdown",
   "metadata": {},
   "source": [
    "### Create Lambda Conversion Functions "
   ]
  },
  {
   "cell_type": "code",
   "execution_count": 74,
   "metadata": {},
   "outputs": [],
   "source": [
    "# Data Transformation To Numeric Value \n",
    "sex_convert = lambda x: sex_map[x]\n",
    "solved_convert = lambda x: solved_map[x] \n",
    "state_convert = lambda x: state_map[x]\n",
    "race_convert = lambda x: victim_race_map[x]\n",
    "weapon_convert = lambda x: weapon_map[x]\n",
    "\n",
    "\n",
    "lambda_list = [state_convert , solved_convert ,sex_convert , race_convert\n",
    "              ,weapon_convert]\n",
    "columns_list = list(final_df.columns)\n",
    "columns_list.remove('Victim Age')\n",
    "df_list = [test_df , train_df, final_df]\n"
   ]
  },
  {
   "cell_type": "markdown",
   "metadata": {},
   "source": [
    "## Transform Cells \n"
   ]
  },
  {
   "cell_type": "code",
   "execution_count": 80,
   "metadata": {},
   "outputs": [],
   "source": [
    "for i in range (0 , len(lambda_list)):\n",
    "    final_df[columns_list[i]] = final_df[columns_list[i]].apply(lambda_list[i])\n",
    "\n",
    "for i in range (0 , len(lambda_list)):\n",
    "    test_df[columns_list[i]] = test_df[columns_list[i]].apply(lambda_list[i])\n",
    "\n",
    "for i in range (0 , len(lambda_list)):\n",
    "    train_df[columns_list[i]] = train_df[columns_list[i]].apply(lambda_list[i])"
   ]
  },
  {
   "cell_type": "markdown",
   "metadata": {},
   "source": [
    "## Training Data"
   ]
  },
  {
   "cell_type": "code",
   "execution_count": 103,
   "metadata": {},
   "outputs": [
    {
     "data": {
      "text/plain": [
       "LogisticRegression(C=1.0, class_weight=None, dual=False, fit_intercept=True,\n",
       "                   intercept_scaling=1, l1_ratio=None, max_iter=100,\n",
       "                   multi_class='warn', n_jobs=None, penalty='l2',\n",
       "                   random_state=None, solver='lbfgs', tol=0.0001, verbose=0,\n",
       "                   warm_start=False)"
      ]
     },
     "execution_count": 103,
     "metadata": {},
     "output_type": "execute_result"
    }
   ],
   "source": [
    "log_reg = LogisticRegression(solver = \"lbfgs\")\n",
    "log_reg.fit(train_df.drop(columns=[\"Crime Solved\"]) , train_df[\"Crime Solved\"])\n"
   ]
  },
  {
   "cell_type": "markdown",
   "metadata": {},
   "source": [
    "## Predict "
   ]
  },
  {
   "cell_type": "code",
   "execution_count": 101,
   "metadata": {},
   "outputs": [],
   "source": [
    "x_test = test_df.drop(columns=[\"Crime Solved\"])\n",
    "y_test = test_df[\"Crime Solved\"]\n",
    "output_values = log_reg.predict(x_test)"
   ]
  },
  {
   "cell_type": "code",
   "execution_count": 95,
   "metadata": {},
   "outputs": [
    {
     "name": "stdout",
     "output_type": "stream",
     "text": [
      "Actual Size: 89933 Predict Size: 89933 \n",
      "Accuracy 71.07\n"
     ]
    }
   ],
   "source": [
    "actual_values = test_df[\"Crime Solved\"]\n",
    "print(\"Actual Size: %d Predict Size: %d \" \n",
    "      %(len(actual_values), len(output_values)))\n",
    "\n",
    "correct_prediction =0 \n",
    "for i in range(0 , len(output_values)): \n",
    "    if actual_values[i] == output_values[i]:\n",
    "        correct_prediction+=1\n",
    "accuracy = correct_prediction / len(actual_values) * 100\n",
    "print(\"Accuracy %.2f\"  %(accuracy))\n"
   ]
  },
  {
   "cell_type": "code",
   "execution_count": 105,
   "metadata": {},
   "outputs": [
    {
     "name": "stdout",
     "output_type": "stream",
     "text": [
      "0.7107402177176343\n"
     ]
    }
   ],
   "source": [
    "score = log_reg.score(x_test, y_test)\n",
    "print(score)"
   ]
  }
 ],
 "metadata": {
  "kernelspec": {
   "display_name": "Python 3",
   "language": "python",
   "name": "python3"
  },
  "language_info": {
   "codemirror_mode": {
    "name": "ipython",
    "version": 3
   },
   "file_extension": ".py",
   "mimetype": "text/x-python",
   "name": "python",
   "nbconvert_exporter": "python",
   "pygments_lexer": "ipython3",
   "version": "3.7.3"
  }
 },
 "nbformat": 4,
 "nbformat_minor": 2
}
