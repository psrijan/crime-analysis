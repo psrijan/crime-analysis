{
 "cells": [
  {
   "cell_type": "code",
   "execution_count": 1,
   "metadata": {},
   "outputs": [
    {
     "name": "stdout",
     "output_type": "stream",
     "text": [
      "Import complete\n"
     ]
    }
   ],
   "source": [
    "import pandas as pd\n",
    "import seaborn as sns \n",
    "import numpy as np\n",
    "\n",
    "print(\"Import complete\")"
   ]
  },
  {
   "cell_type": "markdown",
   "metadata": {},
   "source": [
    "### Change the Unknown to missing values\n",
    "\n",
    "There are no nan values in the dataset. However I see that there are a lot of unknown values. I infer that missing values are Unknown instead of default NaN values of numpy"
   ]
  },
  {
   "cell_type": "code",
   "execution_count": 3,
   "metadata": {},
   "outputs": [],
   "source": [
    "missing_values = [\"Unknown\"]\n",
    "df = pd.read_csv(\"/home/srijan/Documents/drexel/datasets/kag_hom_ds.csv\" , header = 0 , low_memory=False, na_values=missing_values)"
   ]
  },
  {
   "cell_type": "markdown",
   "metadata": {},
   "source": [
    "### How many missing values are there in the dataset:"
   ]
  },
  {
   "cell_type": "code",
   "execution_count": 28,
   "metadata": {},
   "outputs": [
    {
     "data": {
      "text/plain": [
       "Record ID                     0\n",
       "Agency Code                   0\n",
       "Agency Name                  47\n",
       "Agency Type                   0\n",
       "City                          0\n",
       "State                         0\n",
       "Year                          0\n",
       "Month                         0\n",
       "Incident                      0\n",
       "Crime Type                    0\n",
       "Crime Solved                  0\n",
       "Victim Sex                  984\n",
       "Victim Age                    0\n",
       "Victim Race                6676\n",
       "Victim Ethnicity         368303\n",
       "Perpetrator Sex          190365\n",
       "Perpetrator Age               0\n",
       "Perpetrator Race         196047\n",
       "Perpetrator Ethnicity    446410\n",
       "Relationship             273013\n",
       "Weapon                    33192\n",
       "Victim Count                  0\n",
       "Perpetrator Count             0\n",
       "Record Source                 0\n",
       "dtype: int64"
      ]
     },
     "execution_count": 28,
     "metadata": {},
     "output_type": "execute_result"
    }
   ],
   "source": [
    "missing_values = df.isna().sum()\n",
    "missing_values"
   ]
  },
  {
   "cell_type": "code",
   "execution_count": 20,
   "metadata": {},
   "outputs": [
    {
     "data": {
      "text/plain": [
       "Index(['Record ID', 'Agency Code', 'Agency Name', 'Agency Type', 'City',\n",
       "       'State', 'Year', 'Month', 'Incident', 'Crime Type', 'Crime Solved',\n",
       "       'Victim Sex', 'Victim Age', 'Victim Race', 'Victim Ethnicity',\n",
       "       'Perpetrator Sex', 'Perpetrator Age', 'Perpetrator Race',\n",
       "       'Perpetrator Ethnicity', 'Relationship', 'Weapon', 'Victim Count',\n",
       "       'Perpetrator Count', 'Record Source'],\n",
       "      dtype='object')"
      ]
     },
     "execution_count": 20,
     "metadata": {},
     "output_type": "execute_result"
    }
   ],
   "source": [
    "df.columns"
   ]
  },
  {
   "cell_type": "code",
   "execution_count": 25,
   "metadata": {},
   "outputs": [
    {
     "name": "stdout",
     "output_type": "stream",
     "text": [
      "Total Records: 638454\n"
     ]
    }
   ],
   "source": [
    "total_record = df[\"Record ID\"].count()\n",
    "print (\"Total Records: %s\" %(total_record))"
   ]
  },
  {
   "cell_type": "markdown",
   "metadata": {},
   "source": [
    "### What dimentions can be outright removed based on the missing values? \n"
   ]
  },
  {
   "cell_type": "code",
   "execution_count": 36,
   "metadata": {},
   "outputs": [
    {
     "data": {
      "text/html": [
       "<div>\n",
       "<style scoped>\n",
       "    .dataframe tbody tr th:only-of-type {\n",
       "        vertical-align: middle;\n",
       "    }\n",
       "\n",
       "    .dataframe tbody tr th {\n",
       "        vertical-align: top;\n",
       "    }\n",
       "\n",
       "    .dataframe thead th {\n",
       "        text-align: right;\n",
       "    }\n",
       "</style>\n",
       "<table border=\"1\" class=\"dataframe\">\n",
       "  <thead>\n",
       "    <tr style=\"text-align: right;\">\n",
       "      <th></th>\n",
       "      <th>Missing Values</th>\n",
       "      <th>Total Difference</th>\n",
       "      <th>Perc Remaining Value (%)</th>\n",
       "    </tr>\n",
       "  </thead>\n",
       "  <tbody>\n",
       "    <tr>\n",
       "      <th>Record ID</th>\n",
       "      <td>0</td>\n",
       "      <td>638454</td>\n",
       "      <td>100.000000</td>\n",
       "    </tr>\n",
       "    <tr>\n",
       "      <th>Agency Code</th>\n",
       "      <td>0</td>\n",
       "      <td>638454</td>\n",
       "      <td>100.000000</td>\n",
       "    </tr>\n",
       "    <tr>\n",
       "      <th>Agency Name</th>\n",
       "      <td>47</td>\n",
       "      <td>638407</td>\n",
       "      <td>99.992638</td>\n",
       "    </tr>\n",
       "    <tr>\n",
       "      <th>Agency Type</th>\n",
       "      <td>0</td>\n",
       "      <td>638454</td>\n",
       "      <td>100.000000</td>\n",
       "    </tr>\n",
       "    <tr>\n",
       "      <th>City</th>\n",
       "      <td>0</td>\n",
       "      <td>638454</td>\n",
       "      <td>100.000000</td>\n",
       "    </tr>\n",
       "    <tr>\n",
       "      <th>State</th>\n",
       "      <td>0</td>\n",
       "      <td>638454</td>\n",
       "      <td>100.000000</td>\n",
       "    </tr>\n",
       "    <tr>\n",
       "      <th>Year</th>\n",
       "      <td>0</td>\n",
       "      <td>638454</td>\n",
       "      <td>100.000000</td>\n",
       "    </tr>\n",
       "    <tr>\n",
       "      <th>Month</th>\n",
       "      <td>0</td>\n",
       "      <td>638454</td>\n",
       "      <td>100.000000</td>\n",
       "    </tr>\n",
       "    <tr>\n",
       "      <th>Incident</th>\n",
       "      <td>0</td>\n",
       "      <td>638454</td>\n",
       "      <td>100.000000</td>\n",
       "    </tr>\n",
       "    <tr>\n",
       "      <th>Crime Type</th>\n",
       "      <td>0</td>\n",
       "      <td>638454</td>\n",
       "      <td>100.000000</td>\n",
       "    </tr>\n",
       "    <tr>\n",
       "      <th>Crime Solved</th>\n",
       "      <td>0</td>\n",
       "      <td>638454</td>\n",
       "      <td>100.000000</td>\n",
       "    </tr>\n",
       "    <tr>\n",
       "      <th>Victim Sex</th>\n",
       "      <td>984</td>\n",
       "      <td>637470</td>\n",
       "      <td>99.845878</td>\n",
       "    </tr>\n",
       "    <tr>\n",
       "      <th>Victim Age</th>\n",
       "      <td>0</td>\n",
       "      <td>638454</td>\n",
       "      <td>100.000000</td>\n",
       "    </tr>\n",
       "    <tr>\n",
       "      <th>Victim Race</th>\n",
       "      <td>6676</td>\n",
       "      <td>631778</td>\n",
       "      <td>98.954349</td>\n",
       "    </tr>\n",
       "    <tr>\n",
       "      <th>Victim Ethnicity</th>\n",
       "      <td>368303</td>\n",
       "      <td>270151</td>\n",
       "      <td>42.313307</td>\n",
       "    </tr>\n",
       "    <tr>\n",
       "      <th>Perpetrator Sex</th>\n",
       "      <td>190365</td>\n",
       "      <td>448089</td>\n",
       "      <td>70.183443</td>\n",
       "    </tr>\n",
       "    <tr>\n",
       "      <th>Perpetrator Age</th>\n",
       "      <td>0</td>\n",
       "      <td>638454</td>\n",
       "      <td>100.000000</td>\n",
       "    </tr>\n",
       "    <tr>\n",
       "      <th>Perpetrator Race</th>\n",
       "      <td>196047</td>\n",
       "      <td>442407</td>\n",
       "      <td>69.293481</td>\n",
       "    </tr>\n",
       "    <tr>\n",
       "      <th>Perpetrator Ethnicity</th>\n",
       "      <td>446410</td>\n",
       "      <td>192044</td>\n",
       "      <td>30.079536</td>\n",
       "    </tr>\n",
       "    <tr>\n",
       "      <th>Relationship</th>\n",
       "      <td>273013</td>\n",
       "      <td>365441</td>\n",
       "      <td>57.238423</td>\n",
       "    </tr>\n",
       "    <tr>\n",
       "      <th>Weapon</th>\n",
       "      <td>33192</td>\n",
       "      <td>605262</td>\n",
       "      <td>94.801192</td>\n",
       "    </tr>\n",
       "    <tr>\n",
       "      <th>Victim Count</th>\n",
       "      <td>0</td>\n",
       "      <td>638454</td>\n",
       "      <td>100.000000</td>\n",
       "    </tr>\n",
       "    <tr>\n",
       "      <th>Perpetrator Count</th>\n",
       "      <td>0</td>\n",
       "      <td>638454</td>\n",
       "      <td>100.000000</td>\n",
       "    </tr>\n",
       "    <tr>\n",
       "      <th>Record Source</th>\n",
       "      <td>0</td>\n",
       "      <td>638454</td>\n",
       "      <td>100.000000</td>\n",
       "    </tr>\n",
       "  </tbody>\n",
       "</table>\n",
       "</div>"
      ],
      "text/plain": [
       "                       Missing Values  Total Difference  \\\n",
       "Record ID                           0            638454   \n",
       "Agency Code                         0            638454   \n",
       "Agency Name                        47            638407   \n",
       "Agency Type                         0            638454   \n",
       "City                                0            638454   \n",
       "State                               0            638454   \n",
       "Year                                0            638454   \n",
       "Month                               0            638454   \n",
       "Incident                            0            638454   \n",
       "Crime Type                          0            638454   \n",
       "Crime Solved                        0            638454   \n",
       "Victim Sex                        984            637470   \n",
       "Victim Age                          0            638454   \n",
       "Victim Race                      6676            631778   \n",
       "Victim Ethnicity               368303            270151   \n",
       "Perpetrator Sex                190365            448089   \n",
       "Perpetrator Age                     0            638454   \n",
       "Perpetrator Race               196047            442407   \n",
       "Perpetrator Ethnicity          446410            192044   \n",
       "Relationship                   273013            365441   \n",
       "Weapon                          33192            605262   \n",
       "Victim Count                        0            638454   \n",
       "Perpetrator Count                   0            638454   \n",
       "Record Source                       0            638454   \n",
       "\n",
       "                       Perc Remaining Value (%)  \n",
       "Record ID                            100.000000  \n",
       "Agency Code                          100.000000  \n",
       "Agency Name                           99.992638  \n",
       "Agency Type                          100.000000  \n",
       "City                                 100.000000  \n",
       "State                                100.000000  \n",
       "Year                                 100.000000  \n",
       "Month                                100.000000  \n",
       "Incident                             100.000000  \n",
       "Crime Type                           100.000000  \n",
       "Crime Solved                         100.000000  \n",
       "Victim Sex                            99.845878  \n",
       "Victim Age                           100.000000  \n",
       "Victim Race                           98.954349  \n",
       "Victim Ethnicity                      42.313307  \n",
       "Perpetrator Sex                       70.183443  \n",
       "Perpetrator Age                      100.000000  \n",
       "Perpetrator Race                      69.293481  \n",
       "Perpetrator Ethnicity                 30.079536  \n",
       "Relationship                          57.238423  \n",
       "Weapon                                94.801192  \n",
       "Victim Count                         100.000000  \n",
       "Perpetrator Count                    100.000000  \n",
       "Record Source                        100.000000  "
      ]
     },
     "execution_count": 36,
     "metadata": {},
     "output_type": "execute_result"
    }
   ],
   "source": [
    "frame = {\"Missing Values\": missing_values}\n",
    "missing_value_df=pd.DataFrame(frame)\n",
    "missing_value_df[\"Total Difference\"] = total_record - missing_value_df[\"Missing Values\"]\n",
    "missing_value_df[\"Perc Remaining Value (%)\"] = missing_value_df[\"Total Difference\"]/total_record *100\n",
    "missing_value_df\n"
   ]
  },
  {
   "cell_type": "markdown",
   "metadata": {},
   "source": [
    "### Some Insights \n",
    "1. Perpetrator Ethnicity has only **30%** values \n",
    "1. Victim Ethnicity has only **42%** values \n",
    "1. Relationship has only **57%** values \n",
    "\n",
    "#### Best to get rid of these values as basing the model will require removing lot of values."
   ]
  },
  {
   "cell_type": "code",
   "execution_count": 38,
   "metadata": {},
   "outputs": [
    {
     "data": {
      "text/plain": [
       "Index(['Record ID', 'Agency Code', 'Agency Name', 'Agency Type', 'City',\n",
       "       'State', 'Year', 'Month', 'Incident', 'Crime Type', 'Crime Solved',\n",
       "       'Victim Sex', 'Victim Age', 'Victim Race', 'Perpetrator Sex',\n",
       "       'Perpetrator Age', 'Perpetrator Race', 'Weapon', 'Victim Count',\n",
       "       'Perpetrator Count', 'Record Source'],\n",
       "      dtype='object')"
      ]
     },
     "execution_count": 38,
     "metadata": {},
     "output_type": "execute_result"
    }
   ],
   "source": [
    "to_drop = [\"Perpetrator Ethnicity\" , \"Victim Ethnicity\" , \"Relationship\" ]\n",
    "df = df.drop(labels = to_drop , axis =1)\n",
    "df.columns"
   ]
  },
  {
   "cell_type": "markdown",
   "metadata": {},
   "source": [
    "# Conclusion \n",
    "\n",
    "1. There were no NaN missing values \n",
    "1. Dimensions with maximum number of missing values have been removed \n",
    "\n"
   ]
  },
  {
   "cell_type": "code",
   "execution_count": 41,
   "metadata": {},
   "outputs": [],
   "source": [
    "df.to_csv(path_or_buf= \"/home/srijan/Documents/cleenupcode\")"
   ]
  },
  {
   "cell_type": "code",
   "execution_count": 7,
   "metadata": {},
   "outputs": [
    {
     "data": {
      "text/plain": [
       "array([ 0,  2,  1,  3,  6,  4,  5,  9,  7,  8, 10])"
      ]
     },
     "execution_count": 7,
     "metadata": {},
     "output_type": "execute_result"
    }
   ],
   "source": [
    "cdf[\"Victim Count\"].groupb"
   ]
  },
  {
   "cell_type": "code",
   "execution_count": 8,
   "metadata": {},
   "outputs": [
    {
     "data": {
      "text/html": [
       "<div>\n",
       "<style scoped>\n",
       "    .dataframe tbody tr th:only-of-type {\n",
       "        vertical-align: middle;\n",
       "    }\n",
       "\n",
       "    .dataframe tbody tr th {\n",
       "        vertical-align: top;\n",
       "    }\n",
       "\n",
       "    .dataframe thead th {\n",
       "        text-align: right;\n",
       "    }\n",
       "</style>\n",
       "<table border=\"1\" class=\"dataframe\">\n",
       "  <thead>\n",
       "    <tr style=\"text-align: right;\">\n",
       "      <th></th>\n",
       "      <th>Record ID</th>\n",
       "      <th>Agency Code</th>\n",
       "      <th>Agency Name</th>\n",
       "      <th>Agency Type</th>\n",
       "      <th>City</th>\n",
       "      <th>State</th>\n",
       "      <th>Year</th>\n",
       "      <th>Month</th>\n",
       "      <th>Incident</th>\n",
       "      <th>Crime Type</th>\n",
       "      <th>...</th>\n",
       "      <th>Victim Ethnicity</th>\n",
       "      <th>Perpetrator Sex</th>\n",
       "      <th>Perpetrator Age</th>\n",
       "      <th>Perpetrator Race</th>\n",
       "      <th>Perpetrator Ethnicity</th>\n",
       "      <th>Relationship</th>\n",
       "      <th>Weapon</th>\n",
       "      <th>Victim Count</th>\n",
       "      <th>Perpetrator Count</th>\n",
       "      <th>Record Source</th>\n",
       "    </tr>\n",
       "  </thead>\n",
       "  <tbody>\n",
       "    <tr>\n",
       "      <th>0</th>\n",
       "      <td>1</td>\n",
       "      <td>AK00101</td>\n",
       "      <td>Anchorage</td>\n",
       "      <td>Municipal Police</td>\n",
       "      <td>Anchorage</td>\n",
       "      <td>Alaska</td>\n",
       "      <td>1980</td>\n",
       "      <td>January</td>\n",
       "      <td>1</td>\n",
       "      <td>Murder or Manslaughter</td>\n",
       "      <td>...</td>\n",
       "      <td>NaN</td>\n",
       "      <td>Male</td>\n",
       "      <td>15</td>\n",
       "      <td>Native American/Alaska Native</td>\n",
       "      <td>NaN</td>\n",
       "      <td>Acquaintance</td>\n",
       "      <td>Blunt Object</td>\n",
       "      <td>0</td>\n",
       "      <td>0</td>\n",
       "      <td>FBI</td>\n",
       "    </tr>\n",
       "    <tr>\n",
       "      <th>1</th>\n",
       "      <td>2</td>\n",
       "      <td>AK00101</td>\n",
       "      <td>Anchorage</td>\n",
       "      <td>Municipal Police</td>\n",
       "      <td>Anchorage</td>\n",
       "      <td>Alaska</td>\n",
       "      <td>1980</td>\n",
       "      <td>March</td>\n",
       "      <td>1</td>\n",
       "      <td>Murder or Manslaughter</td>\n",
       "      <td>...</td>\n",
       "      <td>NaN</td>\n",
       "      <td>Male</td>\n",
       "      <td>42</td>\n",
       "      <td>White</td>\n",
       "      <td>NaN</td>\n",
       "      <td>Acquaintance</td>\n",
       "      <td>Strangulation</td>\n",
       "      <td>0</td>\n",
       "      <td>0</td>\n",
       "      <td>FBI</td>\n",
       "    </tr>\n",
       "    <tr>\n",
       "      <th>2</th>\n",
       "      <td>3</td>\n",
       "      <td>AK00101</td>\n",
       "      <td>Anchorage</td>\n",
       "      <td>Municipal Police</td>\n",
       "      <td>Anchorage</td>\n",
       "      <td>Alaska</td>\n",
       "      <td>1980</td>\n",
       "      <td>March</td>\n",
       "      <td>2</td>\n",
       "      <td>Murder or Manslaughter</td>\n",
       "      <td>...</td>\n",
       "      <td>NaN</td>\n",
       "      <td>NaN</td>\n",
       "      <td>0</td>\n",
       "      <td>NaN</td>\n",
       "      <td>NaN</td>\n",
       "      <td>NaN</td>\n",
       "      <td>NaN</td>\n",
       "      <td>0</td>\n",
       "      <td>0</td>\n",
       "      <td>FBI</td>\n",
       "    </tr>\n",
       "    <tr>\n",
       "      <th>3</th>\n",
       "      <td>4</td>\n",
       "      <td>AK00101</td>\n",
       "      <td>Anchorage</td>\n",
       "      <td>Municipal Police</td>\n",
       "      <td>Anchorage</td>\n",
       "      <td>Alaska</td>\n",
       "      <td>1980</td>\n",
       "      <td>April</td>\n",
       "      <td>1</td>\n",
       "      <td>Murder or Manslaughter</td>\n",
       "      <td>...</td>\n",
       "      <td>NaN</td>\n",
       "      <td>Male</td>\n",
       "      <td>42</td>\n",
       "      <td>White</td>\n",
       "      <td>NaN</td>\n",
       "      <td>Acquaintance</td>\n",
       "      <td>Strangulation</td>\n",
       "      <td>0</td>\n",
       "      <td>0</td>\n",
       "      <td>FBI</td>\n",
       "    </tr>\n",
       "    <tr>\n",
       "      <th>4</th>\n",
       "      <td>5</td>\n",
       "      <td>AK00101</td>\n",
       "      <td>Anchorage</td>\n",
       "      <td>Municipal Police</td>\n",
       "      <td>Anchorage</td>\n",
       "      <td>Alaska</td>\n",
       "      <td>1980</td>\n",
       "      <td>April</td>\n",
       "      <td>2</td>\n",
       "      <td>Murder or Manslaughter</td>\n",
       "      <td>...</td>\n",
       "      <td>NaN</td>\n",
       "      <td>NaN</td>\n",
       "      <td>0</td>\n",
       "      <td>NaN</td>\n",
       "      <td>NaN</td>\n",
       "      <td>NaN</td>\n",
       "      <td>NaN</td>\n",
       "      <td>0</td>\n",
       "      <td>1</td>\n",
       "      <td>FBI</td>\n",
       "    </tr>\n",
       "  </tbody>\n",
       "</table>\n",
       "<p>5 rows × 24 columns</p>\n",
       "</div>"
      ],
      "text/plain": [
       "   Record ID Agency Code Agency Name       Agency Type       City   State  \\\n",
       "0          1     AK00101   Anchorage  Municipal Police  Anchorage  Alaska   \n",
       "1          2     AK00101   Anchorage  Municipal Police  Anchorage  Alaska   \n",
       "2          3     AK00101   Anchorage  Municipal Police  Anchorage  Alaska   \n",
       "3          4     AK00101   Anchorage  Municipal Police  Anchorage  Alaska   \n",
       "4          5     AK00101   Anchorage  Municipal Police  Anchorage  Alaska   \n",
       "\n",
       "   Year    Month  Incident              Crime Type  ... Victim Ethnicity  \\\n",
       "0  1980  January         1  Murder or Manslaughter  ...              NaN   \n",
       "1  1980    March         1  Murder or Manslaughter  ...              NaN   \n",
       "2  1980    March         2  Murder or Manslaughter  ...              NaN   \n",
       "3  1980    April         1  Murder or Manslaughter  ...              NaN   \n",
       "4  1980    April         2  Murder or Manslaughter  ...              NaN   \n",
       "\n",
       "  Perpetrator Sex  Perpetrator Age               Perpetrator Race  \\\n",
       "0            Male               15  Native American/Alaska Native   \n",
       "1            Male               42                          White   \n",
       "2             NaN                0                            NaN   \n",
       "3            Male               42                          White   \n",
       "4             NaN                0                            NaN   \n",
       "\n",
       "  Perpetrator Ethnicity  Relationship         Weapon Victim Count  \\\n",
       "0                   NaN  Acquaintance   Blunt Object            0   \n",
       "1                   NaN  Acquaintance  Strangulation            0   \n",
       "2                   NaN           NaN            NaN            0   \n",
       "3                   NaN  Acquaintance  Strangulation            0   \n",
       "4                   NaN           NaN            NaN            0   \n",
       "\n",
       "  Perpetrator Count Record Source  \n",
       "0                 0           FBI  \n",
       "1                 0           FBI  \n",
       "2                 0           FBI  \n",
       "3                 0           FBI  \n",
       "4                 1           FBI  \n",
       "\n",
       "[5 rows x 24 columns]"
      ]
     },
     "execution_count": 8,
     "metadata": {},
     "output_type": "execute_result"
    }
   ],
   "source": [
    "df.head()"
   ]
  },
  {
   "cell_type": "code",
   "execution_count": 19,
   "metadata": {},
   "outputs": [
    {
     "data": {
      "text/plain": [
       "array(['Municipal Police', 'County Police', 'State Police', 'Sheriff',\n",
       "       'Special Police', 'Regional Police', 'Tribal Police'], dtype=object)"
      ]
     },
     "execution_count": 19,
     "metadata": {},
     "output_type": "execute_result"
    }
   ],
   "source": [
    "df['Agency Type'].unique()"
   ]
  }
 ],
 "metadata": {
  "kernelspec": {
   "display_name": "Python 3",
   "language": "python",
   "name": "python3"
  },
  "language_info": {
   "codemirror_mode": {
    "name": "ipython",
    "version": 3
   },
   "file_extension": ".py",
   "mimetype": "text/x-python",
   "name": "python",
   "nbconvert_exporter": "python",
   "pygments_lexer": "ipython3",
   "version": "3.7.3"
  }
 },
 "nbformat": 4,
 "nbformat_minor": 2
}
